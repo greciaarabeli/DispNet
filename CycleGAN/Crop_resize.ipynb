{
 "cells": [
  {
   "cell_type": "code",
   "execution_count": 1,
   "metadata": {},
   "outputs": [],
   "source": [
    "# import the necessary modules\n",
    "%matplotlib inline\n",
    "from PIL import Image\n",
    "import numpy as np\n",
    "import os\n",
    "from tqdm import tqdm"
   ]
  },
  {
   "cell_type": "code",
   "execution_count": 2,
   "metadata": {},
   "outputs": [
    {
     "name": "stderr",
     "output_type": "stream",
     "text": [
      "100%|██████████| 289/289 [00:43<00:00,  6.70it/s]\n"
     ]
    }
   ],
   "source": [
    "for file in tqdm(os.listdir(\"raw/A\")):\n",
    "    real_pic = Image.open('raw/A/'+ file);\n",
    "    cropped = real_pic.crop((256, 0, 878, 375));\n",
    "    cropped = cropped.resize((512, 256),0);\n",
    "    cropped.save('train/A/'+ file);"
   ]
  },
  {
   "cell_type": "code",
   "execution_count": 3,
   "metadata": {},
   "outputs": [
    {
     "name": "stderr",
     "output_type": "stream",
     "text": [
      "100%|██████████| 3/3 [00:00<00:00,  4.90it/s]\n"
     ]
    }
   ],
   "source": [
    "for file in tqdm(os.listdir(\"raw/B\")):\n",
    "    real_pic = Image.open('raw/B/'+ file);\n",
    "    cropped = real_pic.resize((878, 494),0)\n",
    "    cropped = cropped.crop((0, 66, 878, 375));\n",
    "    cropped = cropped.resize((512, 256),0);\n",
    "    cropped.save('train/B/'+ file);"
   ]
  },
  {
   "cell_type": "code",
   "execution_count": null,
   "metadata": {},
   "outputs": [],
   "source": []
  }
 ],
 "metadata": {
  "kernelspec": {
   "display_name": "Python 3",
   "language": "python",
   "name": "python3"
  },
  "language_info": {
   "codemirror_mode": {
    "name": "ipython",
    "version": 3
   },
   "file_extension": ".py",
   "mimetype": "text/x-python",
   "name": "python",
   "nbconvert_exporter": "python",
   "pygments_lexer": "ipython3",
   "version": "3.6.5"
  }
 },
 "nbformat": 4,
 "nbformat_minor": 2
}
